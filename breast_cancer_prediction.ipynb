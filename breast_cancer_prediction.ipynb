{
  "nbformat": 4,
  "nbformat_minor": 0,
  "metadata": {
    "colab": {
      "provenance": []
    },
    "kernelspec": {
      "name": "python3",
      "display_name": "Python 3"
    },
    "language_info": {
      "name": "python"
    }
  },
  "cells": [
    {
      "cell_type": "markdown",
      "source": [
        "breast_cancer prediction"
      ],
      "metadata": {
        "id": "CEMPo3Re_t0j"
      }
    },
    {
      "cell_type": "code",
      "execution_count": 18,
      "metadata": {
        "id": "8epv9J144OXc"
      },
      "outputs": [],
      "source": [
        "import numpy as np\n",
        "import pandas as pd\n",
        "from sklearn.datasets import load_breast_cancer\n",
        "import matplotlib.pyplot as plt\n",
        "from sklearn.model_selection import train_test_split\n",
        "from sklearn.model_selection import cross_val_score\n",
        "from sklearn.linear_model import LogisticRegression\n",
        "from sklearn.svm import SVC\n",
        "from sklearn.neighbors import KNeighborsClassifier\n",
        "from sklearn.ensemble import RandomForestClassifier\n",
        "from sklearn.metrics import accuracy_score\n",
        "import statistics"
      ]
    },
    {
      "cell_type": "code",
      "source": [
        "# from sklearn import datasets\n",
        "df=load_breast_cancer()\n",
        "# breast_cancer=pd.DataFrame(df.data)\n",
        "# breast_cancer.columns=df.feature_names\n",
        "# breast_cancer['target']=df.target\n",
        "# breast_cancer.head()\n",
        "breast_cancer=pd.read_csv('/content/data.csv')\n",
        "breast_cancer['target']=df.target\n",
        "breast_cancer"
      ],
      "metadata": {
        "id": "6bhcsx7k5ALW"
      },
      "execution_count": null,
      "outputs": []
    },
    {
      "cell_type": "code",
      "source": [
        "breast_cancer['target'].value_counts()"
      ],
      "metadata": {
        "id": "eLyGAPpLl7D4"
      },
      "execution_count": null,
      "outputs": []
    },
    {
      "cell_type": "code",
      "source": [
        "breast_cancer.isnull().sum()"
      ],
      "metadata": {
        "id": "zYYtoCStm6wt"
      },
      "execution_count": null,
      "outputs": []
    },
    {
      "cell_type": "code",
      "source": [
        "breast_cancer.describe()"
      ],
      "metadata": {
        "id": "Lext1oRbnDyI"
      },
      "execution_count": null,
      "outputs": []
    },
    {
      "cell_type": "code",
      "source": [
        "x=breast_cancer.drop(columns=['target','Unnamed: 32','diagnosis','id'],axis=1)\n",
        "y=breast_cancer['target']\n",
        "print(x)\n",
        "print(y)"
      ],
      "metadata": {
        "id": "Hq8Tsa-BnI_h"
      },
      "execution_count": null,
      "outputs": []
    },
    {
      "cell_type": "code",
      "source": [
        "x_train,x_test,y_train,y_test=train_test_split(x,y,test_size=0.2,stratify=y,random_state=0)"
      ],
      "metadata": {
        "id": "BSi7o7KpnjXU"
      },
      "execution_count": 10,
      "outputs": []
    },
    {
      "cell_type": "code",
      "source": [
        "models=[LogisticRegression(max_iter=1000),SVC(kernel='linear'),KNeighborsClassifier(),RandomForestClassifier()]"
      ],
      "metadata": {
        "id": "jyPHx21rwe44"
      },
      "execution_count": 15,
      "outputs": []
    },
    {
      "cell_type": "code",
      "source": [
        "def compare_model_train_test():\n",
        "  for model in models:\n",
        "    model.fit(x_train,y_train)\n",
        "    test_data_prediction=model.predict(x_test)\n",
        "    accuracy=accuracy_score(test_data_prediction,y_test)\n",
        "    print(f\"accuracy score of {model} is {accuracy}\")"
      ],
      "metadata": {
        "id": "eaI4n3nuw0tS"
      },
      "execution_count": 16,
      "outputs": []
    },
    {
      "cell_type": "code",
      "source": [
        "compare_model_train_test()"
      ],
      "metadata": {
        "colab": {
          "base_uri": "https://localhost:8080/"
        },
        "id": "EE_KqFADxsYY",
        "outputId": "00c110e3-4005-4552-c057-be2165b44073"
      },
      "execution_count": 17,
      "outputs": [
        {
          "output_type": "stream",
          "name": "stderr",
          "text": [
            "/usr/local/lib/python3.8/dist-packages/sklearn/linear_model/_logistic.py:814: ConvergenceWarning: lbfgs failed to converge (status=1):\n",
            "STOP: TOTAL NO. of ITERATIONS REACHED LIMIT.\n",
            "\n",
            "Increase the number of iterations (max_iter) or scale the data as shown in:\n",
            "    https://scikit-learn.org/stable/modules/preprocessing.html\n",
            "Please also refer to the documentation for alternative solver options:\n",
            "    https://scikit-learn.org/stable/modules/linear_model.html#logistic-regression\n",
            "  n_iter_i = _check_optimize_result(\n"
          ]
        },
        {
          "output_type": "stream",
          "name": "stdout",
          "text": [
            "accuracy score of LogisticRegression(max_iter=1000) is 0.9385964912280702\n",
            "accuracy score of SVC(kernel='linear') is 0.956140350877193\n",
            "accuracy score of KNeighborsClassifier() is 0.9122807017543859\n",
            "accuracy score of RandomForestClassifier() is 0.9473684210526315\n"
          ]
        }
      ]
    },
    {
      "cell_type": "code",
      "source": [
        "def compare_model_train_test_for_cv():\n",
        "  for model in models:\n",
        "    cv_score=cross_val_score(model,x,y,cv=5)\n",
        "    mean_accuracy=statistics.mean(cv_score)\n",
        "    print(f\"cross validation accuracy for the {model}={cv_score}\")\n",
        "    print(f\"accuracy % of the {model} is {mean_accuracy}\")\n",
        "    print(\"----------------------------\")"
      ],
      "metadata": {
        "id": "C3ukmY4OyO2s"
      },
      "execution_count": 21,
      "outputs": []
    },
    {
      "cell_type": "code",
      "source": [
        "compare_model_train_test_for_cv()"
      ],
      "metadata": {
        "colab": {
          "base_uri": "https://localhost:8080/"
        },
        "id": "GSLDzrOIzqyz",
        "outputId": "42461fbc-8c18-42cd-eec6-2d1227b7ea39"
      },
      "execution_count": 22,
      "outputs": [
        {
          "output_type": "stream",
          "name": "stderr",
          "text": [
            "/usr/local/lib/python3.8/dist-packages/sklearn/linear_model/_logistic.py:814: ConvergenceWarning: lbfgs failed to converge (status=1):\n",
            "STOP: TOTAL NO. of ITERATIONS REACHED LIMIT.\n",
            "\n",
            "Increase the number of iterations (max_iter) or scale the data as shown in:\n",
            "    https://scikit-learn.org/stable/modules/preprocessing.html\n",
            "Please also refer to the documentation for alternative solver options:\n",
            "    https://scikit-learn.org/stable/modules/linear_model.html#logistic-regression\n",
            "  n_iter_i = _check_optimize_result(\n",
            "/usr/local/lib/python3.8/dist-packages/sklearn/linear_model/_logistic.py:814: ConvergenceWarning: lbfgs failed to converge (status=1):\n",
            "STOP: TOTAL NO. of ITERATIONS REACHED LIMIT.\n",
            "\n",
            "Increase the number of iterations (max_iter) or scale the data as shown in:\n",
            "    https://scikit-learn.org/stable/modules/preprocessing.html\n",
            "Please also refer to the documentation for alternative solver options:\n",
            "    https://scikit-learn.org/stable/modules/linear_model.html#logistic-regression\n",
            "  n_iter_i = _check_optimize_result(\n",
            "/usr/local/lib/python3.8/dist-packages/sklearn/linear_model/_logistic.py:814: ConvergenceWarning: lbfgs failed to converge (status=1):\n",
            "STOP: TOTAL NO. of ITERATIONS REACHED LIMIT.\n",
            "\n",
            "Increase the number of iterations (max_iter) or scale the data as shown in:\n",
            "    https://scikit-learn.org/stable/modules/preprocessing.html\n",
            "Please also refer to the documentation for alternative solver options:\n",
            "    https://scikit-learn.org/stable/modules/linear_model.html#logistic-regression\n",
            "  n_iter_i = _check_optimize_result(\n",
            "/usr/local/lib/python3.8/dist-packages/sklearn/linear_model/_logistic.py:814: ConvergenceWarning: lbfgs failed to converge (status=1):\n",
            "STOP: TOTAL NO. of ITERATIONS REACHED LIMIT.\n",
            "\n",
            "Increase the number of iterations (max_iter) or scale the data as shown in:\n",
            "    https://scikit-learn.org/stable/modules/preprocessing.html\n",
            "Please also refer to the documentation for alternative solver options:\n",
            "    https://scikit-learn.org/stable/modules/linear_model.html#logistic-regression\n",
            "  n_iter_i = _check_optimize_result(\n",
            "/usr/local/lib/python3.8/dist-packages/sklearn/linear_model/_logistic.py:814: ConvergenceWarning: lbfgs failed to converge (status=1):\n",
            "STOP: TOTAL NO. of ITERATIONS REACHED LIMIT.\n",
            "\n",
            "Increase the number of iterations (max_iter) or scale the data as shown in:\n",
            "    https://scikit-learn.org/stable/modules/preprocessing.html\n",
            "Please also refer to the documentation for alternative solver options:\n",
            "    https://scikit-learn.org/stable/modules/linear_model.html#logistic-regression\n",
            "  n_iter_i = _check_optimize_result(\n"
          ]
        },
        {
          "output_type": "stream",
          "name": "stdout",
          "text": [
            "cross validation accuracy for the LogisticRegression(max_iter=1000)=[0.93859649 0.93859649 0.98245614 0.94736842 0.96460177]\n",
            "accuracy % of the LogisticRegression(max_iter=1000) is 0.9543238627542306\n",
            "----------------------------\n",
            "cross validation accuracy for the SVC(kernel='linear')=[0.94736842 0.92982456 0.97368421 0.92105263 0.95575221]\n",
            "accuracy % of the SVC(kernel='linear') is 0.9455364073901568\n",
            "----------------------------\n",
            "cross validation accuracy for the KNeighborsClassifier()=[0.88596491 0.93859649 0.93859649 0.94736842 0.92920354]\n",
            "accuracy % of the KNeighborsClassifier() is 0.9279459711224965\n",
            "----------------------------\n",
            "cross validation accuracy for the RandomForestClassifier()=[0.92982456 0.94736842 0.98245614 0.97368421 0.98230088]\n",
            "accuracy % of the RandomForestClassifier() is 0.9631268436578171\n",
            "----------------------------\n"
          ]
        }
      ]
    },
    {
      "cell_type": "code",
      "source": [],
      "metadata": {
        "id": "7Uwxa8gDzuPS"
      },
      "execution_count": null,
      "outputs": []
    }
  ]
}